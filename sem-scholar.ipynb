{
 "cells": [
  {
   "cell_type": "markdown",
   "metadata": {},
   "source": [
    "# Semantic Scholar data retrieval\n",
    "We are normally given: \n",
    "- pid of researcher from dblp.org\n",
    "- list doi of papers by given researcher\n",
    "\n",
    "We need to get:\n",
    "- citation counts of this papers\n",
    "- paper abstracts\n",
    "\n",
    "https://api.semanticscholar.org/api-docs/graph\n",
    "\n",
    "---"
   ]
  },
  {
   "cell_type": "markdown",
   "metadata": {},
   "source": [
    "## API rate limits\n",
    "Understanding API rate limits and usage policies is essential to avoid getting blocked and to optimize data collection. \n",
    "\n",
    "1. Requests per minute:\t100 requests per 5 minutes (avg 20 requests/min)\n",
    "2. Requests per day: 1,000 requests per day (anonymous use)\n",
    "3. Batch lookup size: Max 100 paper IDs per /batch call"
   ]
  },
  {
   "cell_type": "markdown",
   "metadata": {},
   "source": [
    "## API calls to Semantic Scholar\n",
    "\n",
    "Let's see what is the API call policy on Semantic Scholar\n"
   ]
  },
  {
   "cell_type": "code",
   "execution_count": 7,
   "metadata": {},
   "outputs": [],
   "source": [
    "import requests\n",
    "\n",
    "name = \"Rainer Gemulla\"\n",
    "pid = \"32/5357\"\n",
    "doi = [\n",
    "    '10.1145/3583780.3614895', \n",
    "    '10.18653/v1/2023.findings-emnlp.713', \n",
    "    '10.18653/v1/2023.repl4nlp-1.11', \n",
    "    '10.48550/arXiv.2305.13059'\n",
    "    ]"
   ]
  },
  {
   "cell_type": "markdown",
   "metadata": {},
   "source": [
    "### Fetching by PID\n",
    "Fetching by pid in SemanticScholar is not directly supported and would require author matching based on paper titles, which we do not want to do."
   ]
  },
  {
   "cell_type": "markdown",
   "metadata": {},
   "source": [
    "### Fetching by DOI\n",
    "Does not work for all papers"
   ]
  },
  {
   "cell_type": "code",
   "execution_count": null,
   "metadata": {},
   "outputs": [
    {
     "name": "stdout",
     "output_type": "stream",
     "text": [
      "[\n",
      "  {\n",
      "    \"paperId\": \"4978520a959b103f9dd55ec3ce4545ab06191a18\",\n",
      "    \"title\": \"Good Intentions: Adaptive Parameter Management via Intent Signaling\",\n",
      "    \"referenceCount\": 75,\n",
      "    \"citationCount\": 1\n",
      "  },\n",
      "  null,\n",
      "  null,\n",
      "  {\n",
      "    \"paperId\": \"d573ea0c11a20a53651550b8dc9af7c99814d1c8\",\n",
      "    \"title\": \"Friendly Neighbors: Contextualized Sequence-to-Sequence Link Prediction\",\n",
      "    \"referenceCount\": 22,\n",
      "    \"citationCount\": 5\n",
      "  }\n",
      "]\n"
     ]
    }
   ],
   "source": [
    "import json \n",
    "\n",
    "r = requests.post(\n",
    "    'https://api.semanticscholar.org/graph/v1/paper/batch',\n",
    "    params={'fields': 'referenceCount,citationCount,title'},\n",
    "    json={\"ids\": [f\"DOI:{i}\" for i in doi]})\n",
    "print(json.dumps(r.json(), indent=2))"
   ]
  },
  {
   "cell_type": "markdown",
   "metadata": {},
   "source": [
    "### Fetch by dblp pub id\n",
    "\n",
    "Does not work. "
   ]
  },
  {
   "cell_type": "code",
   "execution_count": 13,
   "metadata": {},
   "outputs": [
    {
     "name": "stdout",
     "output_type": "stream",
     "text": [
      "{\n",
      "  \"error\": \"No valid paper ids given\"\n",
      "}\n"
     ]
    }
   ],
   "source": [
    "dblp_paper_id = [\n",
    "    \"conf/cikm/Renz-WielandKGG23\",\n",
    "    \"conf/emnlp/KochsiekG23\",\n",
    "    \"conf/rep4nlp/KochsiekSNG23\",\n",
    "    \"journals/corr/abs-2305-13059\"\n",
    "]\n",
    "\n",
    "r = requests.post(\n",
    "    'https://api.semanticscholar.org/graph/v1/paper/batch',\n",
    "    params={'fields': 'referenceCount,citationCount,title'},\n",
    "    json={\"ids\": [\"DBLP:conf/acl/LoWNKW20\"]})\n",
    "print(json.dumps(r.json(), indent=2))\n"
   ]
  },
  {
   "cell_type": "markdown",
   "metadata": {},
   "source": [
    "### Hybrid strategy\n",
    "\n",
    "Get one publication by **DOI** and get **author_id** from it and using that get publication data of a person \n",
    "That would require making 2 calls\n",
    "\n",
    "**!!** Since we already don't get all papers by DOI, there's no point in proceeding here."
   ]
  },
  {
   "cell_type": "markdown",
   "metadata": {},
   "source": [
    "### Search by paper name\n",
    "Searching by paper name is okay, however we will have to match the correct paper by its author.\n",
    "And it seems like we only getting semantic scholar paperId which would require us to make more calls. Not good"
   ]
  },
  {
   "cell_type": "markdown",
   "metadata": {},
   "source": [
    "## Downloading Semantic Scholar dataset"
   ]
  },
  {
   "cell_type": "markdown",
   "metadata": {},
   "source": [
    "Doesn't seem possible without an API_KEY which issuance is paused due to high demand. \n",
    "\n",
    "Reference here: https://github.com/allenai/s2orc"
   ]
  },
  {
   "cell_type": "code",
   "execution_count": null,
   "metadata": {},
   "outputs": [],
   "source": []
  },
  {
   "cell_type": "code",
   "execution_count": null,
   "metadata": {},
   "outputs": [],
   "source": []
  }
 ],
 "metadata": {
  "kernelspec": {
   "display_name": "venv",
   "language": "python",
   "name": "python3"
  },
  "language_info": {
   "codemirror_mode": {
    "name": "ipython",
    "version": 3
   },
   "file_extension": ".py",
   "mimetype": "text/x-python",
   "name": "python",
   "nbconvert_exporter": "python",
   "pygments_lexer": "ipython3",
   "version": "3.13.0"
  }
 },
 "nbformat": 4,
 "nbformat_minor": 2
}
